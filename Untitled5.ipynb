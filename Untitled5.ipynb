{
  "nbformat": 4,
  "nbformat_minor": 0,
  "metadata": {
    "colab": {
      "provenance": []
    },
    "kernelspec": {
      "name": "python3",
      "display_name": "Python 3"
    },
    "language_info": {
      "name": "python"
    }
  },
  "cells": [
    {
      "cell_type": "markdown",
      "source": [
        "###1. To what does a relative path refer?\n",
        "#####**Answer** :- A relative path is a way to specify the location of a directory relative to another directory. For example, suppose your documents are in C:\\Sample\\Documents and your index is in C:\\Sample\\Index. The absolute path for the documents would be C:\\Sample\\Documents."
      ],
      "metadata": {
        "id": "GDPRgY9e2f8K"
      }
    },
    {
      "cell_type": "markdown",
      "source": [
        "###2. What does an absolute path start with your operating system?\n",
        "#####**Answer :-** An absolute path is also known as the full path and starts with / in Linux and macOS and C:/ on Windows. To find an absolute path in Python you import the os module then you can find the current working directory using os. path"
      ],
      "metadata": {
        "id": "3Vfodjdr3ilo"
      }
    },
    {
      "cell_type": "markdown",
      "source": [
        "####3. What do the functions os.getcwd() and os.chdir() do?\n",
        "#####**Answer :-** os.getcwd() method tells us the location of current working directory (CWD). Whereas os.chdir() method in Python used to change the current working directory to specified path. These functions are similar to linux commands pwd and cd"
      ],
      "metadata": {
        "id": "zzFkblZZ4_K-"
      }
    },
    {
      "cell_type": "markdown",
      "source": [
        "####4. What are the . and .. folders?\n",
        "####**Answer :-**  . Represents the Current Directory Whereas .. Represents the Parent Directory of the Current Directory\n",
        "For Example: if the below path is my absolute path:\n",
        "C:\\\\Users\\\\This PC\\\\Documents\\\\iNeuron-Assignments\\\\Python Basic Assignment\n",
        "Then . represents the path C:\\\\Users\\\\This PC\\\\Documents\\\\iNeuron-Assignments\\\\Python Basic Assignment\n",
        "Where as .. represents the path C:\\\\Users\\\\This PC\\\\Documents\\\\iNeuron-Assignments"
      ],
      "metadata": {
        "id": "bB1aB-IGGJa6"
      }
    },
    {
      "cell_type": "markdown",
      "source": [
        "####5. In C:\\bacon\\eggs\\spam.txt, which part is the dir name, and which part is the base name?\n",
        "#####**Answer :-**  For C:\\bacon\\eggs\\spam.txt\n",
        "The dir name is C:\\\\bacon\\\\eggs\n",
        "The Base name is spam.txt"
      ],
      "metadata": {
        "id": "x0M7E5gKH3fB"
      }
    },
    {
      "cell_type": "code",
      "source": [
        "import os\n",
        "path = r'C:\\bacon\\eggs\\spam.txt'\n",
        "print(os.path.dirname(path))\n",
        "print(os.path.basename(path))"
      ],
      "metadata": {
        "colab": {
          "base_uri": "https://localhost:8080/"
        },
        "id": "2TLLrfgyJKCI",
        "outputId": "8fa3be30-f85b-4190-ea58-a41c624d9cf0"
      },
      "execution_count": 3,
      "outputs": [
        {
          "output_type": "stream",
          "name": "stdout",
          "text": [
            "\n",
            "C:\\bacon\\eggs\\spam.txt\n"
          ]
        }
      ]
    },
    {
      "cell_type": "markdown",
      "source": [
        "####6. What are the three “mode” arguments that can be passed to the open() function?\n",
        "#####**Answer :-** A file can be Accessed in python using open() function. open function takes two arguments filename and mode of operation (optional). if mode is not provided the default mode of opening is read mode\n",
        "So, the syntax being: open(filename, mode)\n",
        "\n",
        "**‘r’** – Read Mode: This is the default mode for open(). The file is opened and a pointer is positioned at the beginning of the file’s content.\n",
        "\n",
        "**‘w’** – Write Mode: Using this mode will overwrite any existing content in a file. If the given file does not exist, a new one will be created.\n",
        "\n",
        "**‘r+’** – Read/Write Mode: Use this mode if you need to simultaneously read and write to a file.\n",
        "\n",
        "**‘a’** – Append Mode: With this mode the user can append the data without overwriting any already existing data in the file.\n",
        "\n",
        "**‘a+’** – Append and Read Mode: In this mode you can read and append the data without overwriting the original file.\n",
        "\n",
        "**‘x’** – Exclusive Creating Mode: This mode is for the sole purpose of creating new files. Use this mode if you know the file to be written doesn’t exist beforehand."
      ],
      "metadata": {
        "id": "OadC9A2rJV-p"
      }
    },
    {
      "cell_type": "markdown",
      "source": [
        "####7. What happens if an existing file is opened in write mode?\n",
        "#####**Answer :-** Using this mode will overwrite any existing content in a file. If the given file does not exist, a new one will be created."
      ],
      "metadata": {
        "id": "XNNhe3JnKXtP"
      }
    },
    {
      "cell_type": "markdown",
      "source": [
        "####8. How do you tell the difference between read() and readlines()?\n",
        "#####**Answer:-** The main difference is that read() will read the whole file at once and then print out the first characters that take up as many bytes as you specify in the parenthesis\n",
        "\n",
        "\n",
        "\n",
        "* Whereas the readline() that will read and print out only the first\n",
        "characters that take up as many bytes as you specify in the parenthesis. You may want to use readline() when you're reading files that are too big for your RAM.\n",
        "*The read() would treat each character in the file separately, meaning that the iteration would happen for every character.\n",
        "* The readline() function, on the other hand, only reads a single line of the file. This means that if the first line of the file were three lines long, the readline() function would only parse (or iterate/operate) on the first line of the file."
      ],
      "metadata": {
        "id": "EqaiLHtvKoDm"
      }
    },
    {
      "cell_type": "markdown",
      "source": [
        "####9. What data structure does a shelf value resemble?\n",
        "#####**Answer :-** it contains key and values it represents dictionary."
      ],
      "metadata": {
        "id": "CMNP_529L7p2"
      }
    }
  ]
}